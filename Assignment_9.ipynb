{
 "cells": [
  {
   "cell_type": "code",
   "execution_count": null,
   "id": "11e195cf",
   "metadata": {},
   "outputs": [],
   "source": [
    "# Q-17.  Write an SQL query to show the top n (say 10) records of a table.\n",
    "\n",
    "ANS::\n",
    "select * from worker order by Worker_Id  limit 10;"
   ]
  },
  {
   "cell_type": "code",
   "execution_count": null,
   "id": "d2140eda",
   "metadata": {},
   "outputs": [],
   "source": [
    "# Q-18. Write an SQL query to determine the nth (say n=5) highest salary from a table.\n",
    "ANS::\n",
    "select * from worker order by Salary Desc limit 4,1;"
   ]
  }
 ],
 "metadata": {
  "kernelspec": {
   "display_name": "Python 3 (ipykernel)",
   "language": "python",
   "name": "python3"
  },
  "language_info": {
   "codemirror_mode": {
    "name": "ipython",
    "version": 3
   },
   "file_extension": ".py",
   "mimetype": "text/x-python",
   "name": "python",
   "nbconvert_exporter": "python",
   "pygments_lexer": "ipython3",
   "version": "3.8.5"
  }
 },
 "nbformat": 4,
 "nbformat_minor": 5
}
