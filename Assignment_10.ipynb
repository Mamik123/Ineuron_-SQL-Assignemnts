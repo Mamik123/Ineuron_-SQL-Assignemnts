{
 "cells": [
  {
   "cell_type": "code",
   "execution_count": null,
   "id": "0ff304bf",
   "metadata": {},
   "outputs": [],
   "source": [
    "# Q-19. Write an SQL query to determine the 5th highest salary without using TOP or limit method.\n",
    "ANS::\n",
    "        \n",
    "SELECT Salary\n",
    "FROM Worker W1\n",
    "WHERE 4 = (\n",
    " SELECT COUNT( DISTINCT ( W2.Salary ) )\n",
    " FROM Worker W2\n",
    " WHERE W2.Salary >= W1.Salary\n",
    " );"
   ]
  },
  {
   "cell_type": "code",
   "execution_count": null,
   "id": "0ceb9f89",
   "metadata": {},
   "outputs": [],
   "source": [
    "# Q-20. Write an SQL query to fetch the list of employees with the same salary.\n",
    "ANS::\n",
    "Select distinct W.WORKER_ID, W.FIRST_NAME, W.Salary \n",
    "from Worker W, Worker W1 \n",
    "where W.Salary = W1.Salary \n",
    "and W.WORKER_ID != W1.WORKER_ID;"
   ]
  }
 ],
 "metadata": {
  "kernelspec": {
   "display_name": "Python 3 (ipykernel)",
   "language": "python",
   "name": "python3"
  },
  "language_info": {
   "codemirror_mode": {
    "name": "ipython",
    "version": 3
   },
   "file_extension": ".py",
   "mimetype": "text/x-python",
   "name": "python",
   "nbconvert_exporter": "python",
   "pygments_lexer": "ipython3",
   "version": "3.8.5"
  }
 },
 "nbformat": 4,
 "nbformat_minor": 5
}
