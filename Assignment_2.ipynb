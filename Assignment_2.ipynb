{
 "cells": [
  {
   "cell_type": "code",
   "execution_count": 1,
   "id": "cea6184d",
   "metadata": {},
   "outputs": [
    {
     "data": {
      "text/plain": [
       "'\\nQ-1. Write an SQL query to print the first three characters of  FIRST_NAME from Worker table.\\nQ-2. Write an SQL query to find the position of the alphabet (‘a’) in the first name column ‘Amitabh’ from Worker table.\\nQ-3. Write an SQL query to print the name of employees having the highest salary in each department.\\n\\n\\n'"
      ]
     },
     "execution_count": 1,
     "metadata": {},
     "output_type": "execute_result"
    }
   ],
   "source": [
    "\"\"\"\n",
    "Q-1. Write an SQL query to print the first three characters of  FIRST_NAME from Worker table.\n",
    "Q-2. Write an SQL query to find the position of the alphabet (‘a’) in the first name column ‘Amitabh’ from Worker table.\n",
    "Q-3. Write an SQL query to print the name of employees having the highest salary in each department.\n",
    "\n",
    "\n",
    "\"\"\""
   ]
  },
  {
   "cell_type": "code",
   "execution_count": 2,
   "id": "6c23cde1",
   "metadata": {},
   "outputs": [
    {
     "data": {
      "text/plain": [
       "'\\nQ-1. Write an SQL query to print the first three characters of  FIRST_NAME from Worker table.\\n\\nANS::  select substring(First_name,1,3)  from worker;\\n\\n'"
      ]
     },
     "execution_count": 2,
     "metadata": {},
     "output_type": "execute_result"
    }
   ],
   "source": [
    "\"\"\"\n",
    "Q-1. Write an SQL query to print the first three characters of  FIRST_NAME from Worker table.\n",
    "\n",
    "ANS::  select substring(First_name,1,3)  from worker;\n",
    "\n",
    "\"\"\"\n"
   ]
  },
  {
   "cell_type": "code",
   "execution_count": null,
   "id": "cb908851",
   "metadata": {},
   "outputs": [],
   "source": [
    "\"\"\"\n",
    "Q-3. Write an SQL query to print the name of employees having the highest salary in each department.\n",
    "\n",
    "ANS: select distinct department,max(salary) as sl from worker group by department ;\n",
    "\"\"\""
   ]
  }
 ],
 "metadata": {
  "kernelspec": {
   "display_name": "Python 3 (ipykernel)",
   "language": "python",
   "name": "python3"
  },
  "language_info": {
   "codemirror_mode": {
    "name": "ipython",
    "version": 3
   },
   "file_extension": ".py",
   "mimetype": "text/x-python",
   "name": "python",
   "nbconvert_exporter": "python",
   "pygments_lexer": "ipython3",
   "version": "3.8.5"
  }
 },
 "nbformat": 4,
 "nbformat_minor": 5
}
