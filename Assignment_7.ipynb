{
 "cells": [
  {
   "cell_type": "code",
   "execution_count": null,
   "id": "6b3f894e",
   "metadata": {},
   "outputs": [],
   "source": [
    "# Q-13. Write an SQL query to show only odd rows from a table.\n",
    "ANS ::  \n",
    "select * from worker where worker_id%2<>0;\n",
    "select * from worker  (worker_id,2)=0; "
   ]
  },
  {
   "cell_type": "code",
   "execution_count": null,
   "id": "5b5e9f9a",
   "metadata": {},
   "outputs": [],
   "source": [
    "# Q-14. Write an SQL query to clone a new table from another table.\n",
    "\n",
    "ANS:: create table clone_1 like worker;"
   ]
  }
 ],
 "metadata": {
  "kernelspec": {
   "display_name": "Python 3 (ipykernel)",
   "language": "python",
   "name": "python3"
  },
  "language_info": {
   "codemirror_mode": {
    "name": "ipython",
    "version": 3
   },
   "file_extension": ".py",
   "mimetype": "text/x-python",
   "name": "python",
   "nbconvert_exporter": "python",
   "pygments_lexer": "ipython3",
   "version": "3.8.5"
  }
 },
 "nbformat": 4,
 "nbformat_minor": 5
}
