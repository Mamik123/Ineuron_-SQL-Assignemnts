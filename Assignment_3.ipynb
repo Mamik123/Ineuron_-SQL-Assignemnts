{
 "cells": [
  {
   "cell_type": "code",
   "execution_count": null,
   "id": "9747121d",
   "metadata": {},
   "outputs": [],
   "source": [
    "# Q-1. Write an SQL query to print the FIRST_NAME from Worker table after removing white spaces from the right side.\n",
    "\n",
    "ANS:: select rtrim(First_name) from Worker;"
   ]
  },
  {
   "cell_type": "code",
   "execution_count": null,
   "id": "aac31dda",
   "metadata": {},
   "outputs": [],
   "source": [
    "# Q-2. Write an SQL query that fetches the unique values of DEPARTMENT from Worker table and prints its length.\n",
    "\n",
    "ANS :: select  Department,length(Department)  from worker group by Department;"
   ]
  },
  {
   "cell_type": "code",
   "execution_count": 2,
   "id": "4521053e",
   "metadata": {
    "collapsed": true
   },
   "outputs": [
    {
     "ename": "NameError",
     "evalue": "name 'ANS' is not defined",
     "output_type": "error",
     "traceback": [
      "\u001b[1;31m---------------------------------------------------------------------------\u001b[0m",
      "\u001b[1;31mNameError\u001b[0m                                 Traceback (most recent call last)",
      "\u001b[1;32m~\\AppData\\Local\\Temp/ipykernel_6604/2465491126.py\u001b[0m in \u001b[0;36m<module>\u001b[1;34m\u001b[0m\n\u001b[0;32m      1\u001b[0m \u001b[1;31m# Q-3. Write an SQL query to fetch nth max salaries from a table.\u001b[0m\u001b[1;33m\u001b[0m\u001b[1;33m\u001b[0m\u001b[1;33m\u001b[0m\u001b[0m\n\u001b[0;32m      2\u001b[0m \u001b[1;33m\u001b[0m\u001b[0m\n\u001b[1;32m----> 3\u001b[1;33m \u001b[0mANS\u001b[0m\u001b[1;33m\u001b[0m\u001b[1;33m\u001b[0m\u001b[0m\n\u001b[0m",
      "\u001b[1;31mNameError\u001b[0m: name 'ANS' is not defined"
     ]
    }
   ],
   "source": [
    "# Q-3. Write an SQL query to fetch nth max salaries from a table.  \n",
    "\n",
    "ANS :: select distinct SALARY from worker as  w  where 5>=(select count(distinct SALARY) from worker as  b \n",
    "where w.SALARY <=b.SALARY) order by w.salary desc;"
   ]
  },
  {
   "cell_type": "code",
   "execution_count": null,
   "id": "821681fc",
   "metadata": {},
   "outputs": [],
   "source": [
    ":"
   ]
  }
 ],
 "metadata": {
  "kernelspec": {
   "display_name": "Python 3 (ipykernel)",
   "language": "python",
   "name": "python3"
  },
  "language_info": {
   "codemirror_mode": {
    "name": "ipython",
    "version": 3
   },
   "file_extension": ".py",
   "mimetype": "text/x-python",
   "name": "python",
   "nbconvert_exporter": "python",
   "pygments_lexer": "ipython3",
   "version": "3.8.5"
  }
 },
 "nbformat": 4,
 "nbformat_minor": 5
}
