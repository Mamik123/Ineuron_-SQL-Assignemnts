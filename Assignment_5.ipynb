{
 "cells": [
  {
   "cell_type": "code",
   "execution_count": null,
   "id": "6325dba3",
   "metadata": {},
   "outputs": [],
   "source": [
    "# Q-1. Write an SQL query to print details of workers excluding first names, “Vipul” and “Satish” from Worker table.\n",
    "ANS:: select * from worker where First_Name not in(\"Satish\",\"Vipul\");"
   ]
  },
  {
   "cell_type": "code",
   "execution_count": null,
   "id": "8963a559",
   "metadata": {},
   "outputs": [],
   "source": [
    "# Q-2. Write an SQL query to print details of the Workers whose FIRST_NAME ends with ‘h’ and contains six alphabets.\n",
    "\n",
    "ANS:: select * from worker where First_Name like '%h' and length(First_name)=6;"
   ]
  },
  {
   "cell_type": "code",
   "execution_count": 1,
   "id": "1fdc951f",
   "metadata": {},
   "outputs": [],
   "source": [
    "# Q-3. Write a query to validate Email of Employee.\n",
    "\n",
    "ANS:: Please Help me in this Query.. also you can send me solution with explanation on mamikprorajput@gmail.com"
   ]
  }
 ],
 "metadata": {
  "kernelspec": {
   "display_name": "Python 3 (ipykernel)",
   "language": "python",
   "name": "python3"
  },
  "language_info": {
   "codemirror_mode": {
    "name": "ipython",
    "version": 3
   },
   "file_extension": ".py",
   "mimetype": "text/x-python",
   "name": "python",
   "nbconvert_exporter": "python",
   "pygments_lexer": "ipython3",
   "version": "3.8.5"
  }
 },
 "nbformat": 4,
 "nbformat_minor": 5
}
