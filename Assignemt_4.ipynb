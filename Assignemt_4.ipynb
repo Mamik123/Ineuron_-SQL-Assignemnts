{
 "cells": [
  {
   "cell_type": "code",
   "execution_count": null,
   "id": "b74e461d",
   "metadata": {},
   "outputs": [],
   "source": [
    "# Q-1. Write an SQL query to print the FIRST_NAME from Worker table after replacing ‘a’ with ‘A’.\n",
    "\n",
    "ANS :: select replace(FIRST_NAME,'a',\"A\") from worker;"
   ]
  },
  {
   "cell_type": "code",
   "execution_count": null,
   "id": "b59a3ad7",
   "metadata": {},
   "outputs": [],
   "source": [
    "# Q-2. Write an SQL query to print all Worker details from the Worker table order by FIRST_NAME Ascending and DEPARTMENT Descending.\n",
    "\n",
    "ANS:: select * from worker order by First_Name ASC ,Department desc;"
   ]
  },
  {
   "cell_type": "code",
   "execution_count": null,
   "id": "057000fe",
   "metadata": {},
   "outputs": [],
   "source": [
    "# Q-3. Write an SQL query to fetch the names of workers who earn the highest salary\n",
    "ANS:: select First_Name, max(Salary) from worker;"
   ]
  }
 ],
 "metadata": {
  "kernelspec": {
   "display_name": "Python 3 (ipykernel)",
   "language": "python",
   "name": "python3"
  },
  "language_info": {
   "codemirror_mode": {
    "name": "ipython",
    "version": 3
   },
   "file_extension": ".py",
   "mimetype": "text/x-python",
   "name": "python",
   "nbconvert_exporter": "python",
   "pygments_lexer": "ipython3",
   "version": "3.8.5"
  }
 },
 "nbformat": 4,
 "nbformat_minor": 5
}
