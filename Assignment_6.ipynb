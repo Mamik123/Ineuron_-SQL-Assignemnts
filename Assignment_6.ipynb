{
 "cells": [
  {
   "cell_type": "code",
   "execution_count": null,
   "id": "91aac5e1",
   "metadata": {},
   "outputs": [],
   "source": [
    "# Q-1. Write an SQL query to print details of the Workers who have joined in Feb’2014.\n",
    "ANS:: \n",
    "select * from worker where Joining_Date like '2014-02%';\n",
    "select * from worker where year(joining_date)=2014 and month(joining_date)=2;"
   ]
  },
  {
   "cell_type": "code",
   "execution_count": null,
   "id": "b342b59f",
   "metadata": {},
   "outputs": [],
   "source": [
    "# Q-2. Write an SQL query to fetch duplicate records having matching data in some fields of a table.\n",
    "ANS:: select department ,count(*) from worker group by Department having count(*)>1;\n"
   ]
  },
  {
   "cell_type": "code",
   "execution_count": null,
   "id": "987469a4",
   "metadata": {},
   "outputs": [],
   "source": [
    "# Q-3. How to remove duplicate rows from Employees table.\n",
    "\n",
    "ANS:: \n",
    "        \n",
    "Delete t1 from worker t1\n",
    "inner join worker t2\n",
    "where t1.worker_id =t2.worker_id;"
   ]
  }
 ],
 "metadata": {
  "kernelspec": {
   "display_name": "Python 3 (ipykernel)",
   "language": "python",
   "name": "python3"
  },
  "language_info": {
   "codemirror_mode": {
    "name": "ipython",
    "version": 3
   },
   "file_extension": ".py",
   "mimetype": "text/x-python",
   "name": "python",
   "nbconvert_exporter": "python",
   "pygments_lexer": "ipython3",
   "version": "3.8.5"
  }
 },
 "nbformat": 4,
 "nbformat_minor": 5
}
