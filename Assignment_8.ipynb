{
 "cells": [
  {
   "cell_type": "code",
   "execution_count": null,
   "id": "3be50904",
   "metadata": {},
   "outputs": [],
   "source": [
    "# Q-15. Write an SQL query to fetch intersecting records of two tables.\n",
    "\n",
    "ANS:: \n",
    "select * from worker\n",
    "intersect\n",
    "select * from Manager;"
   ]
  },
  {
   "cell_type": "code",
   "execution_count": null,
   "id": "6c492b93",
   "metadata": {},
   "outputs": [],
   "source": [
    "# Q-16. Write an SQL query to show records from one table that another table does not have.\n",
    "\n",
    "ANS::\n",
    "SELECT * FROM Worker\n",
    "MINUS\n",
    "SELECT * FROM Title;"
   ]
  }
 ],
 "metadata": {
  "kernelspec": {
   "display_name": "Python 3 (ipykernel)",
   "language": "python",
   "name": "python3"
  },
  "language_info": {
   "codemirror_mode": {
    "name": "ipython",
    "version": 3
   },
   "file_extension": ".py",
   "mimetype": "text/x-python",
   "name": "python",
   "nbconvert_exporter": "python",
   "pygments_lexer": "ipython3",
   "version": "3.8.5"
  }
 },
 "nbformat": 4,
 "nbformat_minor": 5
}
